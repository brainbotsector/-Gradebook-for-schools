{
 "cells": [
  {
   "cell_type": "markdown",
   "id": "431e1a41",
   "metadata": {},
   "source": [
    "#  Gradebook for schools\n",
    " Gradebook consists of Class 7 students pf school \n",
    "I have created my own dataset in which unique id for student is their roll no.\n",
    "By carefully observing the attributes,the appropriate visualization has been\n",
    "performed.\n",
    "For Grade of students they have 5 subjects \n",
    "Goal is to remove the percentage of each students and give them grades according to their scores\n"
   ]
  },
  {
   "cell_type": "raw",
   "id": "64417739",
   "metadata": {},
   "source": [
    "#Load Data"
   ]
  },
  {
   "cell_type": "code",
   "execution_count": 129,
   "id": "5dce121a",
   "metadata": {},
   "outputs": [
    {
     "data": {
      "text/html": [
       "<div>\n",
       "<style scoped>\n",
       "    .dataframe tbody tr th:only-of-type {\n",
       "        vertical-align: middle;\n",
       "    }\n",
       "\n",
       "    .dataframe tbody tr th {\n",
       "        vertical-align: top;\n",
       "    }\n",
       "\n",
       "    .dataframe thead th {\n",
       "        text-align: right;\n",
       "    }\n",
       "</style>\n",
       "<table border=\"1\" class=\"dataframe\">\n",
       "  <thead>\n",
       "    <tr style=\"text-align: right;\">\n",
       "      <th></th>\n",
       "      <th>student_rollno</th>\n",
       "      <th>student names</th>\n",
       "      <th>gender</th>\n",
       "      <th>math score</th>\n",
       "      <th>science score</th>\n",
       "      <th>history score</th>\n",
       "      <th>geog score</th>\n",
       "      <th>sports score</th>\n",
       "    </tr>\n",
       "  </thead>\n",
       "  <tbody>\n",
       "    <tr>\n",
       "      <th>0</th>\n",
       "      <td>1</td>\n",
       "      <td>Brian</td>\n",
       "      <td>female</td>\n",
       "      <td>72.0</td>\n",
       "      <td>72.0</td>\n",
       "      <td>74.0</td>\n",
       "      <td>72.0</td>\n",
       "      <td>72.0</td>\n",
       "    </tr>\n",
       "    <tr>\n",
       "      <th>1</th>\n",
       "      <td>2</td>\n",
       "      <td>Christopher</td>\n",
       "      <td>male</td>\n",
       "      <td>69.0</td>\n",
       "      <td>90.0</td>\n",
       "      <td>88.0</td>\n",
       "      <td>69.0</td>\n",
       "      <td>90.0</td>\n",
       "    </tr>\n",
       "    <tr>\n",
       "      <th>2</th>\n",
       "      <td>3</td>\n",
       "      <td>Ricky</td>\n",
       "      <td>female</td>\n",
       "      <td>90.0</td>\n",
       "      <td>95.0</td>\n",
       "      <td>93.0</td>\n",
       "      <td>90.0</td>\n",
       "      <td>95.0</td>\n",
       "    </tr>\n",
       "    <tr>\n",
       "      <th>3</th>\n",
       "      <td>4</td>\n",
       "      <td>George</td>\n",
       "      <td>male</td>\n",
       "      <td>47.0</td>\n",
       "      <td>57.0</td>\n",
       "      <td>44.0</td>\n",
       "      <td>47.0</td>\n",
       "      <td>57.0</td>\n",
       "    </tr>\n",
       "    <tr>\n",
       "      <th>4</th>\n",
       "      <td>5</td>\n",
       "      <td>Henry</td>\n",
       "      <td>male</td>\n",
       "      <td>76.0</td>\n",
       "      <td>78.0</td>\n",
       "      <td>75.0</td>\n",
       "      <td>76.0</td>\n",
       "      <td>78.0</td>\n",
       "    </tr>\n",
       "    <tr>\n",
       "      <th>5</th>\n",
       "      <td>6</td>\n",
       "      <td>Keith</td>\n",
       "      <td>male</td>\n",
       "      <td>71.0</td>\n",
       "      <td>83.0</td>\n",
       "      <td>78.0</td>\n",
       "      <td>71.0</td>\n",
       "      <td>83.0</td>\n",
       "    </tr>\n",
       "    <tr>\n",
       "      <th>6</th>\n",
       "      <td>7</td>\n",
       "      <td>Joseph</td>\n",
       "      <td>male</td>\n",
       "      <td>88.0</td>\n",
       "      <td>95.0</td>\n",
       "      <td>92.0</td>\n",
       "      <td>88.0</td>\n",
       "      <td>95.0</td>\n",
       "    </tr>\n",
       "    <tr>\n",
       "      <th>7</th>\n",
       "      <td>8</td>\n",
       "      <td>John</td>\n",
       "      <td>female</td>\n",
       "      <td>40.0</td>\n",
       "      <td>43.0</td>\n",
       "      <td>39.0</td>\n",
       "      <td>40.0</td>\n",
       "      <td>43.0</td>\n",
       "    </tr>\n",
       "    <tr>\n",
       "      <th>8</th>\n",
       "      <td>9</td>\n",
       "      <td>William</td>\n",
       "      <td>female</td>\n",
       "      <td>64.0</td>\n",
       "      <td>64.0</td>\n",
       "      <td>67.0</td>\n",
       "      <td>64.0</td>\n",
       "      <td>64.0</td>\n",
       "    </tr>\n",
       "    <tr>\n",
       "      <th>9</th>\n",
       "      <td>10</td>\n",
       "      <td>Thomas</td>\n",
       "      <td>male</td>\n",
       "      <td>38.0</td>\n",
       "      <td>60.0</td>\n",
       "      <td>50.0</td>\n",
       "      <td>38.0</td>\n",
       "      <td>60.0</td>\n",
       "    </tr>\n",
       "  </tbody>\n",
       "</table>\n",
       "</div>"
      ],
      "text/plain": [
       "   student_rollno student names  gender  math score  science score  \\\n",
       "0               1         Brian  female        72.0           72.0   \n",
       "1               2   Christopher    male        69.0           90.0   \n",
       "2               3         Ricky  female        90.0           95.0   \n",
       "3               4        George    male        47.0           57.0   \n",
       "4               5         Henry    male        76.0           78.0   \n",
       "5               6         Keith    male        71.0           83.0   \n",
       "6               7        Joseph    male        88.0           95.0   \n",
       "7               8          John  female        40.0           43.0   \n",
       "8               9       William  female        64.0           64.0   \n",
       "9              10        Thomas    male        38.0           60.0   \n",
       "\n",
       "   history score  geog score  sports score  \n",
       "0           74.0        72.0          72.0  \n",
       "1           88.0        69.0          90.0  \n",
       "2           93.0        90.0          95.0  \n",
       "3           44.0        47.0          57.0  \n",
       "4           75.0        76.0          78.0  \n",
       "5           78.0        71.0          83.0  \n",
       "6           92.0        88.0          95.0  \n",
       "7           39.0        40.0          43.0  \n",
       "8           67.0        64.0          64.0  \n",
       "9           50.0        38.0          60.0  "
      ]
     },
     "execution_count": 129,
     "metadata": {},
     "output_type": "execute_result"
    }
   ],
   "source": [
    "import numpy as np\n",
    "import pandas as pd\n",
    "import seaborn as sns\n",
    "import matplotlib.pyplot as plt\n",
    "df = pd.read_csv('exams.csv')\n",
    "df.head(10)"
   ]
  },
  {
   "cell_type": "code",
   "execution_count": 130,
   "id": "749ae84a",
   "metadata": {},
   "outputs": [
    {
     "data": {
      "text/plain": [
       "(20, 8)"
      ]
     },
     "execution_count": 130,
     "metadata": {},
     "output_type": "execute_result"
    }
   ],
   "source": [
    "df.shape"
   ]
  },
  {
   "cell_type": "code",
   "execution_count": 131,
   "id": "0391737e",
   "metadata": {},
   "outputs": [
    {
     "data": {
      "text/html": [
       "<div>\n",
       "<style scoped>\n",
       "    .dataframe tbody tr th:only-of-type {\n",
       "        vertical-align: middle;\n",
       "    }\n",
       "\n",
       "    .dataframe tbody tr th {\n",
       "        vertical-align: top;\n",
       "    }\n",
       "\n",
       "    .dataframe thead th {\n",
       "        text-align: right;\n",
       "    }\n",
       "</style>\n",
       "<table border=\"1\" class=\"dataframe\">\n",
       "  <thead>\n",
       "    <tr style=\"text-align: right;\">\n",
       "      <th></th>\n",
       "      <th>student_rollno</th>\n",
       "      <th>math score</th>\n",
       "      <th>science score</th>\n",
       "      <th>history score</th>\n",
       "      <th>geog score</th>\n",
       "      <th>sports score</th>\n",
       "    </tr>\n",
       "  </thead>\n",
       "  <tbody>\n",
       "    <tr>\n",
       "      <th>count</th>\n",
       "      <td>20.00000</td>\n",
       "      <td>19.000000</td>\n",
       "      <td>19.000000</td>\n",
       "      <td>19.000000</td>\n",
       "      <td>19.000000</td>\n",
       "      <td>19.000000</td>\n",
       "    </tr>\n",
       "    <tr>\n",
       "      <th>mean</th>\n",
       "      <td>10.50000</td>\n",
       "      <td>61.421053</td>\n",
       "      <td>67.736842</td>\n",
       "      <td>64.947368</td>\n",
       "      <td>61.421053</td>\n",
       "      <td>67.736842</td>\n",
       "    </tr>\n",
       "    <tr>\n",
       "      <th>std</th>\n",
       "      <td>5.91608</td>\n",
       "      <td>19.712703</td>\n",
       "      <td>18.902798</td>\n",
       "      <td>19.534794</td>\n",
       "      <td>19.712703</td>\n",
       "      <td>18.902798</td>\n",
       "    </tr>\n",
       "    <tr>\n",
       "      <th>min</th>\n",
       "      <td>1.00000</td>\n",
       "      <td>18.000000</td>\n",
       "      <td>32.000000</td>\n",
       "      <td>28.000000</td>\n",
       "      <td>18.000000</td>\n",
       "      <td>32.000000</td>\n",
       "    </tr>\n",
       "    <tr>\n",
       "      <th>25%</th>\n",
       "      <td>5.75000</td>\n",
       "      <td>46.500000</td>\n",
       "      <td>53.500000</td>\n",
       "      <td>48.000000</td>\n",
       "      <td>46.500000</td>\n",
       "      <td>53.500000</td>\n",
       "    </tr>\n",
       "    <tr>\n",
       "      <th>50%</th>\n",
       "      <td>10.50000</td>\n",
       "      <td>65.000000</td>\n",
       "      <td>72.000000</td>\n",
       "      <td>70.000000</td>\n",
       "      <td>65.000000</td>\n",
       "      <td>72.000000</td>\n",
       "    </tr>\n",
       "    <tr>\n",
       "      <th>75%</th>\n",
       "      <td>15.25000</td>\n",
       "      <td>74.000000</td>\n",
       "      <td>82.000000</td>\n",
       "      <td>78.000000</td>\n",
       "      <td>74.000000</td>\n",
       "      <td>82.000000</td>\n",
       "    </tr>\n",
       "    <tr>\n",
       "      <th>max</th>\n",
       "      <td>20.00000</td>\n",
       "      <td>90.000000</td>\n",
       "      <td>95.000000</td>\n",
       "      <td>93.000000</td>\n",
       "      <td>90.000000</td>\n",
       "      <td>95.000000</td>\n",
       "    </tr>\n",
       "  </tbody>\n",
       "</table>\n",
       "</div>"
      ],
      "text/plain": [
       "       student_rollno  math score  science score  history score  geog score  \\\n",
       "count        20.00000   19.000000      19.000000      19.000000   19.000000   \n",
       "mean         10.50000   61.421053      67.736842      64.947368   61.421053   \n",
       "std           5.91608   19.712703      18.902798      19.534794   19.712703   \n",
       "min           1.00000   18.000000      32.000000      28.000000   18.000000   \n",
       "25%           5.75000   46.500000      53.500000      48.000000   46.500000   \n",
       "50%          10.50000   65.000000      72.000000      70.000000   65.000000   \n",
       "75%          15.25000   74.000000      82.000000      78.000000   74.000000   \n",
       "max          20.00000   90.000000      95.000000      93.000000   90.000000   \n",
       "\n",
       "       sports score  \n",
       "count     19.000000  \n",
       "mean      67.736842  \n",
       "std       18.902798  \n",
       "min       32.000000  \n",
       "25%       53.500000  \n",
       "50%       72.000000  \n",
       "75%       82.000000  \n",
       "max       95.000000  "
      ]
     },
     "execution_count": 131,
     "metadata": {},
     "output_type": "execute_result"
    }
   ],
   "source": [
    "df.describe()"
   ]
  },
  {
   "cell_type": "markdown",
   "id": "0a7160c7",
   "metadata": {},
   "source": [
    "# Calculate total marks"
   ]
  },
  {
   "cell_type": "code",
   "execution_count": 132,
   "id": "7bd58f4c",
   "metadata": {},
   "outputs": [
    {
     "data": {
      "text/html": [
       "<div>\n",
       "<style scoped>\n",
       "    .dataframe tbody tr th:only-of-type {\n",
       "        vertical-align: middle;\n",
       "    }\n",
       "\n",
       "    .dataframe tbody tr th {\n",
       "        vertical-align: top;\n",
       "    }\n",
       "\n",
       "    .dataframe thead th {\n",
       "        text-align: right;\n",
       "    }\n",
       "</style>\n",
       "<table border=\"1\" class=\"dataframe\">\n",
       "  <thead>\n",
       "    <tr style=\"text-align: right;\">\n",
       "      <th></th>\n",
       "      <th>student_rollno</th>\n",
       "      <th>student names</th>\n",
       "      <th>gender</th>\n",
       "      <th>math score</th>\n",
       "      <th>science score</th>\n",
       "      <th>history score</th>\n",
       "      <th>geog score</th>\n",
       "      <th>sports score</th>\n",
       "      <th>Total_Marks</th>\n",
       "    </tr>\n",
       "  </thead>\n",
       "  <tbody>\n",
       "    <tr>\n",
       "      <th>0</th>\n",
       "      <td>1</td>\n",
       "      <td>Brian</td>\n",
       "      <td>female</td>\n",
       "      <td>72.0</td>\n",
       "      <td>72.0</td>\n",
       "      <td>74.0</td>\n",
       "      <td>72.0</td>\n",
       "      <td>72.0</td>\n",
       "      <td>362.0</td>\n",
       "    </tr>\n",
       "    <tr>\n",
       "      <th>1</th>\n",
       "      <td>2</td>\n",
       "      <td>Christopher</td>\n",
       "      <td>male</td>\n",
       "      <td>69.0</td>\n",
       "      <td>90.0</td>\n",
       "      <td>88.0</td>\n",
       "      <td>69.0</td>\n",
       "      <td>90.0</td>\n",
       "      <td>406.0</td>\n",
       "    </tr>\n",
       "    <tr>\n",
       "      <th>2</th>\n",
       "      <td>3</td>\n",
       "      <td>Ricky</td>\n",
       "      <td>female</td>\n",
       "      <td>90.0</td>\n",
       "      <td>95.0</td>\n",
       "      <td>93.0</td>\n",
       "      <td>90.0</td>\n",
       "      <td>95.0</td>\n",
       "      <td>463.0</td>\n",
       "    </tr>\n",
       "    <tr>\n",
       "      <th>3</th>\n",
       "      <td>4</td>\n",
       "      <td>George</td>\n",
       "      <td>male</td>\n",
       "      <td>47.0</td>\n",
       "      <td>57.0</td>\n",
       "      <td>44.0</td>\n",
       "      <td>47.0</td>\n",
       "      <td>57.0</td>\n",
       "      <td>252.0</td>\n",
       "    </tr>\n",
       "    <tr>\n",
       "      <th>4</th>\n",
       "      <td>5</td>\n",
       "      <td>Henry</td>\n",
       "      <td>male</td>\n",
       "      <td>76.0</td>\n",
       "      <td>78.0</td>\n",
       "      <td>75.0</td>\n",
       "      <td>76.0</td>\n",
       "      <td>78.0</td>\n",
       "      <td>383.0</td>\n",
       "    </tr>\n",
       "  </tbody>\n",
       "</table>\n",
       "</div>"
      ],
      "text/plain": [
       "   student_rollno student names  gender  math score  science score  \\\n",
       "0               1         Brian  female        72.0           72.0   \n",
       "1               2   Christopher    male        69.0           90.0   \n",
       "2               3         Ricky  female        90.0           95.0   \n",
       "3               4        George    male        47.0           57.0   \n",
       "4               5         Henry    male        76.0           78.0   \n",
       "\n",
       "   history score  geog score  sports score  Total_Marks  \n",
       "0           74.0        72.0          72.0        362.0  \n",
       "1           88.0        69.0          90.0        406.0  \n",
       "2           93.0        90.0          95.0        463.0  \n",
       "3           44.0        47.0          57.0        252.0  \n",
       "4           75.0        76.0          78.0        383.0  "
      ]
     },
     "execution_count": 132,
     "metadata": {},
     "output_type": "execute_result"
    }
   ],
   "source": [
    "df[\"Total_Marks\"] = df[\"math score\"] + df[\"science score\"] + df[\"history score\"] + df[\"geog score\"] + df[\"sports score\"]\n",
    "df.head()"
   ]
  },
  {
   "cell_type": "markdown",
   "id": "10e5b2a1",
   "metadata": {},
   "source": [
    "# Calculate Percentage"
   ]
  },
  {
   "cell_type": "code",
   "execution_count": 133,
   "id": "4b94e0e1",
   "metadata": {},
   "outputs": [
    {
     "data": {
      "text/html": [
       "<div>\n",
       "<style scoped>\n",
       "    .dataframe tbody tr th:only-of-type {\n",
       "        vertical-align: middle;\n",
       "    }\n",
       "\n",
       "    .dataframe tbody tr th {\n",
       "        vertical-align: top;\n",
       "    }\n",
       "\n",
       "    .dataframe thead th {\n",
       "        text-align: right;\n",
       "    }\n",
       "</style>\n",
       "<table border=\"1\" class=\"dataframe\">\n",
       "  <thead>\n",
       "    <tr style=\"text-align: right;\">\n",
       "      <th></th>\n",
       "      <th>student_rollno</th>\n",
       "      <th>student names</th>\n",
       "      <th>gender</th>\n",
       "      <th>math score</th>\n",
       "      <th>science score</th>\n",
       "      <th>history score</th>\n",
       "      <th>geog score</th>\n",
       "      <th>sports score</th>\n",
       "      <th>Total_Marks</th>\n",
       "      <th>Percentage</th>\n",
       "    </tr>\n",
       "  </thead>\n",
       "  <tbody>\n",
       "    <tr>\n",
       "      <th>0</th>\n",
       "      <td>1</td>\n",
       "      <td>Brian</td>\n",
       "      <td>female</td>\n",
       "      <td>72.0</td>\n",
       "      <td>72.0</td>\n",
       "      <td>74.0</td>\n",
       "      <td>72.0</td>\n",
       "      <td>72.0</td>\n",
       "      <td>362.0</td>\n",
       "      <td>72.4</td>\n",
       "    </tr>\n",
       "    <tr>\n",
       "      <th>1</th>\n",
       "      <td>2</td>\n",
       "      <td>Christopher</td>\n",
       "      <td>male</td>\n",
       "      <td>69.0</td>\n",
       "      <td>90.0</td>\n",
       "      <td>88.0</td>\n",
       "      <td>69.0</td>\n",
       "      <td>90.0</td>\n",
       "      <td>406.0</td>\n",
       "      <td>81.2</td>\n",
       "    </tr>\n",
       "    <tr>\n",
       "      <th>2</th>\n",
       "      <td>3</td>\n",
       "      <td>Ricky</td>\n",
       "      <td>female</td>\n",
       "      <td>90.0</td>\n",
       "      <td>95.0</td>\n",
       "      <td>93.0</td>\n",
       "      <td>90.0</td>\n",
       "      <td>95.0</td>\n",
       "      <td>463.0</td>\n",
       "      <td>92.6</td>\n",
       "    </tr>\n",
       "    <tr>\n",
       "      <th>3</th>\n",
       "      <td>4</td>\n",
       "      <td>George</td>\n",
       "      <td>male</td>\n",
       "      <td>47.0</td>\n",
       "      <td>57.0</td>\n",
       "      <td>44.0</td>\n",
       "      <td>47.0</td>\n",
       "      <td>57.0</td>\n",
       "      <td>252.0</td>\n",
       "      <td>50.4</td>\n",
       "    </tr>\n",
       "    <tr>\n",
       "      <th>4</th>\n",
       "      <td>5</td>\n",
       "      <td>Henry</td>\n",
       "      <td>male</td>\n",
       "      <td>76.0</td>\n",
       "      <td>78.0</td>\n",
       "      <td>75.0</td>\n",
       "      <td>76.0</td>\n",
       "      <td>78.0</td>\n",
       "      <td>383.0</td>\n",
       "      <td>76.6</td>\n",
       "    </tr>\n",
       "  </tbody>\n",
       "</table>\n",
       "</div>"
      ],
      "text/plain": [
       "   student_rollno student names  gender  math score  science score  \\\n",
       "0               1         Brian  female        72.0           72.0   \n",
       "1               2   Christopher    male        69.0           90.0   \n",
       "2               3         Ricky  female        90.0           95.0   \n",
       "3               4        George    male        47.0           57.0   \n",
       "4               5         Henry    male        76.0           78.0   \n",
       "\n",
       "   history score  geog score  sports score  Total_Marks  Percentage  \n",
       "0           74.0        72.0          72.0        362.0        72.4  \n",
       "1           88.0        69.0          90.0        406.0        81.2  \n",
       "2           93.0        90.0          95.0        463.0        92.6  \n",
       "3           44.0        47.0          57.0        252.0        50.4  \n",
       "4           75.0        76.0          78.0        383.0        76.6  "
      ]
     },
     "execution_count": 133,
     "metadata": {},
     "output_type": "execute_result"
    }
   ],
   "source": [
    "df['Percentage'] = df['Total_Marks']/5\n",
    "df.head()"
   ]
  },
  {
   "cell_type": "markdown",
   "id": "312436a9",
   "metadata": {},
   "source": [
    "# Label Encoding\n",
    "0-female\n",
    "1-male"
   ]
  },
  {
   "cell_type": "code",
   "execution_count": 119,
   "id": "7f768fb1",
   "metadata": {},
   "outputs": [
    {
     "data": {
      "text/html": [
       "<div>\n",
       "<style scoped>\n",
       "    .dataframe tbody tr th:only-of-type {\n",
       "        vertical-align: middle;\n",
       "    }\n",
       "\n",
       "    .dataframe tbody tr th {\n",
       "        vertical-align: top;\n",
       "    }\n",
       "\n",
       "    .dataframe thead th {\n",
       "        text-align: right;\n",
       "    }\n",
       "</style>\n",
       "<table border=\"1\" class=\"dataframe\">\n",
       "  <thead>\n",
       "    <tr style=\"text-align: right;\">\n",
       "      <th></th>\n",
       "      <th>student_rollno</th>\n",
       "      <th>student names</th>\n",
       "      <th>gender</th>\n",
       "      <th>math score</th>\n",
       "      <th>science score</th>\n",
       "      <th>history score</th>\n",
       "      <th>geog score</th>\n",
       "      <th>sports score</th>\n",
       "      <th>Total_Marks</th>\n",
       "      <th>Percentage</th>\n",
       "    </tr>\n",
       "  </thead>\n",
       "  <tbody>\n",
       "    <tr>\n",
       "      <th>0</th>\n",
       "      <td>1</td>\n",
       "      <td>Brian</td>\n",
       "      <td>0</td>\n",
       "      <td>99</td>\n",
       "      <td>100</td>\n",
       "      <td>98</td>\n",
       "      <td>99</td>\n",
       "      <td>100</td>\n",
       "      <td>496</td>\n",
       "      <td>99.2</td>\n",
       "    </tr>\n",
       "    <tr>\n",
       "      <th>1</th>\n",
       "      <td>2</td>\n",
       "      <td>Christopher</td>\n",
       "      <td>1</td>\n",
       "      <td>86</td>\n",
       "      <td>87</td>\n",
       "      <td>82</td>\n",
       "      <td>86</td>\n",
       "      <td>87</td>\n",
       "      <td>428</td>\n",
       "      <td>85.6</td>\n",
       "    </tr>\n",
       "    <tr>\n",
       "      <th>2</th>\n",
       "      <td>3</td>\n",
       "      <td>Ricky</td>\n",
       "      <td>0</td>\n",
       "      <td>54</td>\n",
       "      <td>64</td>\n",
       "      <td>60</td>\n",
       "      <td>54</td>\n",
       "      <td>64</td>\n",
       "      <td>296</td>\n",
       "      <td>59.2</td>\n",
       "    </tr>\n",
       "    <tr>\n",
       "      <th>3</th>\n",
       "      <td>4</td>\n",
       "      <td>George</td>\n",
       "      <td>1</td>\n",
       "      <td>79</td>\n",
       "      <td>80</td>\n",
       "      <td>81</td>\n",
       "      <td>79</td>\n",
       "      <td>80</td>\n",
       "      <td>399</td>\n",
       "      <td>79.8</td>\n",
       "    </tr>\n",
       "    <tr>\n",
       "      <th>4</th>\n",
       "      <td>5</td>\n",
       "      <td>Henry</td>\n",
       "      <td>1</td>\n",
       "      <td>84</td>\n",
       "      <td>80</td>\n",
       "      <td>77</td>\n",
       "      <td>84</td>\n",
       "      <td>80</td>\n",
       "      <td>405</td>\n",
       "      <td>81.0</td>\n",
       "    </tr>\n",
       "  </tbody>\n",
       "</table>\n",
       "</div>"
      ],
      "text/plain": [
       "   student_rollno student names  gender  math score  science score  \\\n",
       "0               1         Brian       0          99            100   \n",
       "1               2   Christopher       1          86             87   \n",
       "2               3         Ricky       0          54             64   \n",
       "3               4        George       1          79             80   \n",
       "4               5         Henry       1          84             80   \n",
       "\n",
       "   history score  geog score  sports score  Total_Marks  Percentage  \n",
       "0             98          99           100          496        99.2  \n",
       "1             82          86            87          428        85.6  \n",
       "2             60          54            64          296        59.2  \n",
       "3             81          79            80          399        79.8  \n",
       "4             77          84            80          405        81.0  "
      ]
     },
     "execution_count": 119,
     "metadata": {},
     "output_type": "execute_result"
    }
   ],
   "source": [
    "from sklearn.preprocessing import LabelEncoder\n",
    "lc = LabelEncoder()\n",
    "df['gender'] = lc.fit_transform(df['gender'])\n",
    "df.head()"
   ]
  },
  {
   "cell_type": "markdown",
   "id": "5c6ac86b",
   "metadata": {},
   "source": [
    "# students passed and failed in every subject"
   ]
  },
  {
   "cell_type": "code",
   "execution_count": 134,
   "id": "03dffc4d",
   "metadata": {},
   "outputs": [
    {
     "data": {
      "text/plain": [
       "P    18\n",
       "F     2\n",
       "Name: math_PassStatus, dtype: int64"
      ]
     },
     "execution_count": 134,
     "metadata": {},
     "output_type": "execute_result"
    }
   ],
   "source": [
    "df['math_PassStatus'] = np.where(df['math score']<passmark, 'F', 'P')\n",
    "df.math_PassStatus.value_counts()"
   ]
  },
  {
   "cell_type": "code",
   "execution_count": 135,
   "id": "f19ba4dc",
   "metadata": {},
   "outputs": [
    {
     "data": {
      "text/plain": [
       "P    19\n",
       "F     1\n",
       "Name: science_PassStatus, dtype: int64"
      ]
     },
     "execution_count": 135,
     "metadata": {},
     "output_type": "execute_result"
    }
   ],
   "source": [
    "df['science_PassStatus'] = np.where(df['science score']<passmark, 'F', 'P')\n",
    "df.science_PassStatus.value_counts()"
   ]
  },
  {
   "cell_type": "code",
   "execution_count": 136,
   "id": "db9ee3db",
   "metadata": {},
   "outputs": [
    {
     "data": {
      "text/plain": [
       "P    18\n",
       "F     2\n",
       "Name: history_PassStatus, dtype: int64"
      ]
     },
     "execution_count": 136,
     "metadata": {},
     "output_type": "execute_result"
    }
   ],
   "source": [
    "df['history_PassStatus'] = np.where(df['history score']<passmark, 'F', 'P')\n",
    "df.history_PassStatus.value_counts()"
   ]
  },
  {
   "cell_type": "code",
   "execution_count": 137,
   "id": "8df7dc5f",
   "metadata": {},
   "outputs": [
    {
     "data": {
      "text/plain": [
       "P    18\n",
       "F     2\n",
       "Name: geog_PassStatus, dtype: int64"
      ]
     },
     "execution_count": 137,
     "metadata": {},
     "output_type": "execute_result"
    }
   ],
   "source": [
    "df['geog_PassStatus'] = np.where(df['geog score']<passmark, 'F', 'P')\n",
    "df.geog_PassStatus.value_counts()"
   ]
  },
  {
   "cell_type": "code",
   "execution_count": 138,
   "id": "69fc8115",
   "metadata": {},
   "outputs": [
    {
     "data": {
      "text/plain": [
       "P    19\n",
       "F     1\n",
       "Name: sports_PassStatus, dtype: int64"
      ]
     },
     "execution_count": 138,
     "metadata": {},
     "output_type": "execute_result"
    }
   ],
   "source": [
    "df['sports_PassStatus'] = np.where(df['sports score']<passmark, 'F', 'P')\n",
    "df.sports_PassStatus.value_counts()"
   ]
  },
  {
   "cell_type": "markdown",
   "id": "7faa9bf3",
   "metadata": {},
   "source": [
    "# Overall passed and failed students"
   ]
  },
  {
   "cell_type": "code",
   "execution_count": 139,
   "id": "8460cdd4",
   "metadata": {},
   "outputs": [
    {
     "data": {
      "text/plain": [
       "P    17\n",
       "F     3\n",
       "Name: OverAll_PassStatus, dtype: int64"
      ]
     },
     "execution_count": 139,
     "metadata": {},
     "output_type": "execute_result"
    }
   ],
   "source": [
    "df['OverAll_PassStatus'] = df.apply(lambda x : 'F' if x['math_PassStatus'] == 'F' or \n",
    "                                    x['science_PassStatus'] == 'F' or x['history_PassStatus'] == 'F' or x['geog_PassStatus'] == 'F'or x['sports_PassStatus'] == 'F' else 'P', axis =1)\n",
    "\n",
    "df.OverAll_PassStatus.value_counts()"
   ]
  },
  {
   "cell_type": "markdown",
   "id": "ee6cee7d",
   "metadata": {},
   "source": [
    "# Passing marks = 40"
   ]
  },
  {
   "cell_type": "code",
   "execution_count": 110,
   "id": "44a4cd1d",
   "metadata": {},
   "outputs": [],
   "source": [
    "passmark = 40"
   ]
  },
  {
   "cell_type": "markdown",
   "id": "b6789634",
   "metadata": {},
   "source": [
    "# Let us assign the grades\n",
    "Grading\n",
    "above 80 = A Grade\n",
    "70 to 80 = B Grade\n",
    "60 to 70 = C Grade\n",
    "50 to 60 = D Grade\n",
    "40 to 50 = E Grade\n",
    "below 40 = F Grade ( means Fail )"
   ]
  },
  {
   "cell_type": "code",
   "execution_count": 140,
   "id": "57cd9ded",
   "metadata": {},
   "outputs": [
    {
     "data": {
      "text/plain": [
       "B    6\n",
       "A    4\n",
       "F    4\n",
       "D    3\n",
       "E    2\n",
       "C    1\n",
       "Name: Grade, dtype: int64"
      ]
     },
     "execution_count": 140,
     "metadata": {},
     "output_type": "execute_result"
    }
   ],
   "source": [
    "def GetGrade(Percentage, OverAll_PassStatus):\n",
    "    if ( OverAll_PassStatus == 'F'):\n",
    "        return 'F'    \n",
    "    if ( Percentage >= 80 ):\n",
    "        return 'A'\n",
    "    if ( Percentage >= 70):\n",
    "        return 'B'\n",
    "    if ( Percentage >= 60):\n",
    "        return 'C'\n",
    "    if ( Percentage >= 50):\n",
    "        return 'D'\n",
    "    if ( Percentage >= 40):\n",
    "        return 'E'\n",
    "    else: \n",
    "        return 'F'\n",
    "df['Grade'] = df.apply(lambda x : GetGrade(x['Percentage'], x['OverAll_PassStatus']), axis=1)\n",
    "\n",
    "df.Grade.value_counts()"
   ]
  },
  {
   "cell_type": "code",
   "execution_count": 141,
   "id": "2380cd98",
   "metadata": {},
   "outputs": [
    {
     "data": {
      "image/png": "[encoded data removed]",
      "text/plain": [
       "<Figure size 432x288 with 1 Axes>"
      ]
     },
     "metadata": {
      "needs_background": "light"
     },
     "output_type": "display_data"
    }
   ],
   "source": [
    "sns.countplot(x=\"Grade\", data = df, order=['A','B','C','D','E','F'],  palette=\"muted\")\n",
    "plt.show()"
   ]
  },
  {
   "cell_type": "markdown",
   "id": "c9bce344",
   "metadata": {},
   "source": [
    "# Grades according to roll nos"
   ]
  },
  {
   "cell_type": "code",
   "execution_count": 142,
   "id": "1dfb72a6",
   "metadata": {},
   "outputs": [
    {
     "data": {
      "image/png": "[encoded data removed]",
      "text/plain": [
       "<Figure size 432x288 with 1 Axes>"
      ]
     },
     "metadata": {
      "needs_background": "light"
     },
     "output_type": "display_data"
    }
   ],
   "source": [
    "p = sns.countplot(x='student_rollno', data = df, hue='Grade', palette='bright')\n",
    "_ = plt.setp(p.get_xticklabels(), rotation=90) "
   ]
  },
  {
   "cell_type": "markdown",
   "id": "fb829625",
   "metadata": {},
   "source": [
    "# Overall dataset with percentage and grades of students"
   ]
  },
  {
   "cell_type": "code",
   "execution_count": 152,
   "id": "6c726acc",
   "metadata": {},
   "outputs": [
    {
     "data": {
      "text/html": [
       "<div>\n",
       "<style scoped>\n",
       "    .dataframe tbody tr th:only-of-type {\n",
       "        vertical-align: middle;\n",
       "    }\n",
       "\n",
       "    .dataframe tbody tr th {\n",
       "        vertical-align: top;\n",
       "    }\n",
       "\n",
       "    .dataframe thead th {\n",
       "        text-align: right;\n",
       "    }\n",
       "</style>\n",
       "<table border=\"1\" class=\"dataframe\">\n",
       "  <thead>\n",
       "    <tr style=\"text-align: right;\">\n",
       "      <th></th>\n",
       "      <th>student_rollno</th>\n",
       "      <th>student names</th>\n",
       "      <th>gender</th>\n",
       "      <th>math score</th>\n",
       "      <th>science score</th>\n",
       "      <th>history score</th>\n",
       "      <th>geog score</th>\n",
       "      <th>sports score</th>\n",
       "      <th>Total_Marks</th>\n",
       "      <th>Percentage</th>\n",
       "      <th>math_PassStatus</th>\n",
       "      <th>science_PassStatus</th>\n",
       "      <th>history_PassStatus</th>\n",
       "      <th>geog_PassStatus</th>\n",
       "      <th>sports_PassStatus</th>\n",
       "      <th>OverAll_PassStatus</th>\n",
       "      <th>Grade</th>\n",
       "    </tr>\n",
       "  </thead>\n",
       "  <tbody>\n",
       "    <tr>\n",
       "      <th>0</th>\n",
       "      <td>1</td>\n",
       "      <td>Brian</td>\n",
       "      <td>female</td>\n",
       "      <td>72.0</td>\n",
       "      <td>72.0</td>\n",
       "      <td>74.0</td>\n",
       "      <td>72.0</td>\n",
       "      <td>72.0</td>\n",
       "      <td>362.0</td>\n",
       "      <td>72.4</td>\n",
       "      <td>P</td>\n",
       "      <td>P</td>\n",
       "      <td>P</td>\n",
       "      <td>P</td>\n",
       "      <td>P</td>\n",
       "      <td>P</td>\n",
       "      <td>B</td>\n",
       "    </tr>\n",
       "    <tr>\n",
       "      <th>1</th>\n",
       "      <td>2</td>\n",
       "      <td>Christopher</td>\n",
       "      <td>male</td>\n",
       "      <td>69.0</td>\n",
       "      <td>90.0</td>\n",
       "      <td>88.0</td>\n",
       "      <td>69.0</td>\n",
       "      <td>90.0</td>\n",
       "      <td>406.0</td>\n",
       "      <td>81.2</td>\n",
       "      <td>P</td>\n",
       "      <td>P</td>\n",
       "      <td>P</td>\n",
       "      <td>P</td>\n",
       "      <td>P</td>\n",
       "      <td>P</td>\n",
       "      <td>A</td>\n",
       "    </tr>\n",
       "    <tr>\n",
       "      <th>2</th>\n",
       "      <td>3</td>\n",
       "      <td>Ricky</td>\n",
       "      <td>female</td>\n",
       "      <td>90.0</td>\n",
       "      <td>95.0</td>\n",
       "      <td>93.0</td>\n",
       "      <td>90.0</td>\n",
       "      <td>95.0</td>\n",
       "      <td>463.0</td>\n",
       "      <td>92.6</td>\n",
       "      <td>P</td>\n",
       "      <td>P</td>\n",
       "      <td>P</td>\n",
       "      <td>P</td>\n",
       "      <td>P</td>\n",
       "      <td>P</td>\n",
       "      <td>A</td>\n",
       "    </tr>\n",
       "    <tr>\n",
       "      <th>3</th>\n",
       "      <td>4</td>\n",
       "      <td>George</td>\n",
       "      <td>male</td>\n",
       "      <td>47.0</td>\n",
       "      <td>57.0</td>\n",
       "      <td>44.0</td>\n",
       "      <td>47.0</td>\n",
       "      <td>57.0</td>\n",
       "      <td>252.0</td>\n",
       "      <td>50.4</td>\n",
       "      <td>P</td>\n",
       "      <td>P</td>\n",
       "      <td>P</td>\n",
       "      <td>P</td>\n",
       "      <td>P</td>\n",
       "      <td>P</td>\n",
       "      <td>D</td>\n",
       "    </tr>\n",
       "    <tr>\n",
       "      <th>4</th>\n",
       "      <td>5</td>\n",
       "      <td>Henry</td>\n",
       "      <td>male</td>\n",
       "      <td>76.0</td>\n",
       "      <td>78.0</td>\n",
       "      <td>75.0</td>\n",
       "      <td>76.0</td>\n",
       "      <td>78.0</td>\n",
       "      <td>383.0</td>\n",
       "      <td>76.6</td>\n",
       "      <td>P</td>\n",
       "      <td>P</td>\n",
       "      <td>P</td>\n",
       "      <td>P</td>\n",
       "      <td>P</td>\n",
       "      <td>P</td>\n",
       "      <td>B</td>\n",
       "    </tr>\n",
       "  </tbody>\n",
       "</table>\n",
       "</div>"
      ],
      "text/plain": [
       "   student_rollno student names  gender  math score  science score  \\\n",
       "0               1         Brian  female        72.0           72.0   \n",
       "1               2   Christopher    male        69.0           90.0   \n",
       "2               3         Ricky  female        90.0           95.0   \n",
       "3               4        George    male        47.0           57.0   \n",
       "4               5         Henry    male        76.0           78.0   \n",
       "\n",
       "   history score  geog score  sports score  Total_Marks  Percentage  \\\n",
       "0           74.0        72.0          72.0        362.0        72.4   \n",
       "1           88.0        69.0          90.0        406.0        81.2   \n",
       "2           93.0        90.0          95.0        463.0        92.6   \n",
       "3           44.0        47.0          57.0        252.0        50.4   \n",
       "4           75.0        76.0          78.0        383.0        76.6   \n",
       "\n",
       "  math_PassStatus science_PassStatus history_PassStatus geog_PassStatus  \\\n",
       "0               P                  P                  P               P   \n",
       "1               P                  P                  P               P   \n",
       "2               P                  P                  P               P   \n",
       "3               P                  P                  P               P   \n",
       "4               P                  P                  P               P   \n",
       "\n",
       "  sports_PassStatus OverAll_PassStatus Grade  \n",
       "0                 P                  P     B  \n",
       "1                 P                  P     A  \n",
       "2                 P                  P     A  \n",
       "3                 P                  P     D  \n",
       "4                 P                  P     B  "
      ]
     },
     "execution_count": 152,
     "metadata": {},
     "output_type": "execute_result"
    }
   ],
   "source": [
    "df.head()"
   ]
  },
  {
   "cell_type": "code",
   "execution_count": null,
   "id": "5a20ab81",
   "metadata": {},
   "outputs": [],
   "source": []
  }
 ],
 "metadata": {
  "kernelspec": {
   "display_name": "Python 3 (ipykernel)",
   "language": "python",
   "name": "python3"
  },
  "language_info": {
   "codemirror_mode": {
    "name": "ipython",
    "version": 3
   },
   "file_extension": ".py",
   "mimetype": "text/x-python",
   "name": "python",
   "nbconvert_exporter": "python",
   "pygments_lexer": "ipython3",
   "version": "3.9.12"
  }
 },
 "nbformat": 4,
 "nbformat_minor": 5
}
